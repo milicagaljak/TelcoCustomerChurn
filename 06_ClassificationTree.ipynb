{
 "cells": [
  {
   "cell_type": "markdown",
   "id": "1979b0d2",
   "metadata": {},
   "source": [
    "## ClassificationTree"
   ]
  },
  {
   "cell_type": "markdown",
   "id": "ec8cfad5",
   "metadata": {},
   "source": [
    "from interpret.glassbox import ClassificationTree\n",
    "dt = ClassificationTree(random_state=seed, feature_names=)\n",
    "dt.fit(X_train, y_train)\n",
    "\n",
    "dt_global = dt.explain_global()\n",
    "show(dt_global)\n",
    "\n",
    "dt_local = dt.explain_local(X_test[:5], y_test[:5])\n",
    "show(dt_local)\n",
    "dt.score(X_train, y_train)\n",
    "dt.score(X_test, y_test)"
   ]
  }
 ],
 "metadata": {
  "kernelspec": {
   "display_name": "Python 3 (ipykernel)",
   "language": "python",
   "name": "python3"
  },
  "language_info": {
   "codemirror_mode": {
    "name": "ipython",
    "version": 3
   },
   "file_extension": ".py",
   "mimetype": "text/x-python",
   "name": "python",
   "nbconvert_exporter": "python",
   "pygments_lexer": "ipython3",
   "version": "3.9.12"
  }
 },
 "nbformat": 4,
 "nbformat_minor": 5
}
