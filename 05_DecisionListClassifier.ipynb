{
 "cells": [
  {
   "cell_type": "markdown",
   "id": "350f2156",
   "metadata": {},
   "source": [
    "# DecisionListClassifier"
   ]
  },
  {
   "cell_type": "markdown",
   "id": "b2cddae8",
   "metadata": {},
   "source": [
    "from interpret.glassbox import DecisionListClassifier\n",
    "dl = DecisionListClassifier(random_state=seed)\n",
    "dl.fit(X_train, y_train)\n",
    "\n",
    "dl_global = dl.explain_global()\n",
    "show(dl_global)\n",
    "\n",
    "dl_local = dl.explain_local(X_test[:5], y_test[:5])\n",
    "show(dl_local)\n",
    "\n",
    "dl.score(X_train, y_train)\n",
    "dl.score(X_test, y_test)"
   ]
  }
 ],
 "metadata": {
  "kernelspec": {
   "display_name": "Python 3 (ipykernel)",
   "language": "python",
   "name": "python3"
  },
  "language_info": {
   "codemirror_mode": {
    "name": "ipython",
    "version": 3
   },
   "file_extension": ".py",
   "mimetype": "text/x-python",
   "name": "python",
   "nbconvert_exporter": "python",
   "pygments_lexer": "ipython3",
   "version": "3.9.12"
  }
 },
 "nbformat": 4,
 "nbformat_minor": 5
}
