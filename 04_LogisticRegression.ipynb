{
 "cells": [
  {
   "cell_type": "markdown",
   "id": "fea83a91",
   "metadata": {},
   "source": [
    "# LogisticRegression"
   ]
  },
  {
   "cell_type": "markdown",
   "id": "2597a5a7",
   "metadata": {},
   "source": [
    "from interpret.glassbox import LogisticRegression\n",
    "\n",
    "lr = LogisticRegression(random_state=seed)\n",
    "lr.fit(X_train, y_train)\n",
    "\n",
    "lr_global = lr.explain_global()\n",
    "show(lr_global)\n",
    "\n",
    "lr_local = lr.explain_local(X_test[:5], y_test[:5])\n",
    "show(lr_local)\n",
    "lr.score(X_train, y_train)\n",
    "lr.score(X_test, y_test)"
   ]
  }
 ],
 "metadata": {
  "kernelspec": {
   "display_name": "Python 3 (ipykernel)",
   "language": "python",
   "name": "python3"
  },
  "language_info": {
   "codemirror_mode": {
    "name": "ipython",
    "version": 3
   },
   "file_extension": ".py",
   "mimetype": "text/x-python",
   "name": "python",
   "nbconvert_exporter": "python",
   "pygments_lexer": "ipython3",
   "version": "3.9.12"
  }
 },
 "nbformat": 4,
 "nbformat_minor": 5
}
